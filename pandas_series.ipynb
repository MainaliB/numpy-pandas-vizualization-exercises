{
 "cells": [
  {
   "cell_type": "code",
   "execution_count": 2,
   "metadata": {},
   "outputs": [],
   "source": [
    "import pandas as pd\n",
    "import matplotlib.pyplot as plt"
   ]
  },
  {
   "cell_type": "code",
   "execution_count": 3,
   "metadata": {},
   "outputs": [],
   "source": [
    "fruits = pd.Series([\"kiwi\", \"mango\", \"strawberry\", \"pineapple\", \"gala apple\", \"honeycrisp apple\", \"tomato\", \"watermelon\", \"honeydew\", \"kiwi\", \"kiwi\", \"kiwi\", \"mango\", \"blueberry\", \"blackberry\", \"gooseberry\", \"papaya\"])"
   ]
  },
  {
   "cell_type": "code",
   "execution_count": 321,
   "metadata": {},
   "outputs": [
    {
     "data": {
      "text/plain": [
       "count       17\n",
       "unique      13\n",
       "top       kiwi\n",
       "freq         4\n",
       "dtype: object"
      ]
     },
     "execution_count": 321,
     "metadata": {},
     "output_type": "execute_result"
    }
   ],
   "source": [
    "#Describing our series\n",
    "fruits.describe()"
   ]
  },
  {
   "cell_type": "code",
   "execution_count": 322,
   "metadata": {},
   "outputs": [
    {
     "data": {
      "text/plain": [
       "array(['kiwi', 'mango', 'strawberry', 'pineapple', 'gala apple',\n",
       "       'honeycrisp apple', 'tomato', 'watermelon', 'honeydew',\n",
       "       'blueberry', 'blackberry', 'gooseberry', 'papaya'], dtype=object)"
      ]
     },
     "execution_count": 322,
     "metadata": {},
     "output_type": "execute_result"
    }
   ],
   "source": [
    "#Get the unique fruit names\n",
    "# to get the unique fruit names we can use the function .unique(). This outputs the unique values within the series\n",
    "fruits.unique()"
   ]
  },
  {
   "cell_type": "code",
   "execution_count": 4,
   "metadata": {},
   "outputs": [
    {
     "data": {
      "text/plain": [
       "kiwi    4\n",
       "dtype: int64"
      ]
     },
     "execution_count": 4,
     "metadata": {},
     "output_type": "execute_result"
    }
   ],
   "source": [
    "#Determine how many times each value occurs in the series\n",
    "    # to determine how many times each value occurs we can use .value_counts() function, it produces all the unique\n",
    "    # values and their count\n",
    "fruits.value_counts().head(1)"
   ]
  },
  {
   "cell_type": "code",
   "execution_count": 324,
   "metadata": {},
   "outputs": [
    {
     "data": {
      "text/plain": [
       "0    kiwi\n",
       "dtype: object"
      ]
     },
     "execution_count": 324,
     "metadata": {},
     "output_type": "execute_result"
    }
   ],
   "source": [
    "#e. Determine the most frequently occurring fruit name from the series.\n",
    "fruits.mode()"
   ]
  },
  {
   "cell_type": "code",
   "execution_count": 7,
   "metadata": {},
   "outputs": [
    {
     "data": {
      "text/plain": [
       "tomato              1\n",
       "papaya              1\n",
       "blueberry           1\n",
       "blackberry          1\n",
       "gooseberry          1\n",
       "pineapple           1\n",
       "gala apple          1\n",
       "honeydew            1\n",
       "watermelon          1\n",
       "honeycrisp apple    1\n",
       "strawberry          1\n",
       "mango               2\n",
       "kiwi                4\n",
       "dtype: int64"
      ]
     },
     "execution_count": 7,
     "metadata": {},
     "output_type": "execute_result"
    }
   ],
   "source": [
    "#f Determine the least frequently occurring fruit name from the series.\n",
    "fruits.value_counts().nsmallest(n = 13, keep = \"first\")"
   ]
  },
  {
   "cell_type": "code",
   "execution_count": 9,
   "metadata": {},
   "outputs": [
    {
     "data": {
      "text/plain": [
       "5    honeycrisp apple\n",
       "dtype: object"
      ]
     },
     "execution_count": 9,
     "metadata": {},
     "output_type": "execute_result"
    }
   ],
   "source": [
    "#g. Write the code to get the longest string from the fruits series.\n",
    "fruits[fruits.str.len() == max(fruits.str.len())] # equating the len of fruit to see if it is equal to the max length and then indexing\n"
   ]
  },
  {
   "cell_type": "code",
   "execution_count": 160,
   "metadata": {},
   "outputs": [
    {
     "data": {
      "text/plain": [
       "1                mango\n",
       "2           strawberry\n",
       "3            pineapple\n",
       "4           gala apple\n",
       "5     honeycrisp apple\n",
       "6               tomato\n",
       "7           watermelon\n",
       "8             honeydew\n",
       "12               mango\n",
       "13           blueberry\n",
       "14          blackberry\n",
       "15          gooseberry\n",
       "16              papaya\n",
       "dtype: object"
      ]
     },
     "execution_count": 160,
     "metadata": {},
     "output_type": "execute_result"
    }
   ],
   "source": [
    "#h.Find the fruit(s) with 5 or more letters in the name.\n",
    "fruits[fruits.str.len() >= 5] # indexing the series with a conditional that checks to see if the len is greater than equal to 5"
   ]
  },
  {
   "cell_type": "code",
   "execution_count": 161,
   "metadata": {},
   "outputs": [
    {
     "data": {
      "text/plain": [
       "0                 Kiwi\n",
       "1                Mango\n",
       "2           Strawberry\n",
       "3            Pineapple\n",
       "4           Gala apple\n",
       "5     Honeycrisp apple\n",
       "6               Tomato\n",
       "7           Watermelon\n",
       "8             Honeydew\n",
       "9                 Kiwi\n",
       "10                Kiwi\n",
       "11                Kiwi\n",
       "12               Mango\n",
       "13           Blueberry\n",
       "14          Blackberry\n",
       "15          Gooseberry\n",
       "16              Papaya\n",
       "dtype: object"
      ]
     },
     "execution_count": 161,
     "metadata": {},
     "output_type": "execute_result"
    }
   ],
   "source": [
    "#i. Capitalize all the fruit strings in the series.\n",
    "fruits.str.capitalize() # using the str function .capitalize() to capitalize the name of the fruits in series"
   ]
  },
  {
   "cell_type": "code",
   "execution_count": 162,
   "metadata": {},
   "outputs": [
    {
     "data": {
      "text/plain": [
       "14"
      ]
     },
     "execution_count": 162,
     "metadata": {},
     "output_type": "execute_result"
    }
   ],
   "source": [
    "#j. Count the letter \"a\" in all the fruits (use string vectorization)\n",
    "fruits.str.count(\"a\") # this will output the number of a's in each fruit whereas the code with .sum will\n",
    "#add the count to get the total count of a's\n",
    "fruits.str.count('a').sum()"
   ]
  },
  {
   "cell_type": "code",
   "execution_count": 163,
   "metadata": {},
   "outputs": [
    {
     "data": {
      "text/plain": [
       "0     2\n",
       "1     2\n",
       "2     2\n",
       "3     4\n",
       "4     4\n",
       "5     5\n",
       "6     3\n",
       "7     4\n",
       "8     3\n",
       "9     2\n",
       "10    2\n",
       "11    2\n",
       "12    2\n",
       "13    3\n",
       "14    2\n",
       "15    4\n",
       "16    3\n",
       "dtype: int64"
      ]
     },
     "execution_count": 163,
     "metadata": {},
     "output_type": "execute_result"
    }
   ],
   "source": [
    "#k.Output the number of vowels in each and every fruit.\n",
    "def count_vowels(fruit):\n",
    "    vowels = ('aeiou')    \n",
    "    count = 0\n",
    "    for letter in fruit:\n",
    "        if letter.lower() in vowels:\n",
    "            count += 1\n",
    "    return count\n",
    "\n",
    "# first we created a function that counts the number of vowels in a fruit\n",
    "# then we applied that function to the series using the .apply(function_name)\n",
    "\n",
    "fruits.apply(count_vowels)"
   ]
  },
  {
   "cell_type": "code",
   "execution_count": 164,
   "metadata": {},
   "outputs": [
    {
     "data": {
      "text/plain": [
       "6         tomato\n",
       "15    gooseberry\n",
       "dtype: object"
      ]
     },
     "execution_count": 164,
     "metadata": {},
     "output_type": "execute_result"
    }
   ],
   "source": [
    "#l Use the .apply method and a lambda function to find the fruit(s) containing two or more \"o\" letters in the name.\n",
    "fruits[fruits.apply(lambda fruit: fruit.count(\"o\")>= 2 )] # creating a lamda function that counts the number of o's\n",
    "                                                            # indexing  by applying the lambda function\n",
    "\n"
   ]
  },
  {
   "cell_type": "code",
   "execution_count": 10,
   "metadata": {},
   "outputs": [
    {
     "data": {
      "text/plain": [
       "2     strawberry\n",
       "13     blueberry\n",
       "14    blackberry\n",
       "15    gooseberry\n",
       "dtype: object"
      ]
     },
     "execution_count": 10,
     "metadata": {},
     "output_type": "execute_result"
    }
   ],
   "source": [
    "#m.Write the code to get only the fruits containing \"berry\" in the name\n",
    "\n",
    "# def get_fruit(fruits):\n",
    "#     word = ('berry')\n",
    "#     for fruit in fruits:\n",
    "#         if word in fruit:\n",
    "#             return fruit\n",
    "\n",
    "\n",
    "fruits[fruits.apply(lambda fruit: 'berry' in fruit)] # first checking to see if berry is contained in the fruit name\n",
    "                                                    # using a lambda function, and then indexing it\n",
    "\n",
    "fruits[fruits.str.contains('berry')]    # another approach using st.contains"
   ]
  },
  {
   "cell_type": "code",
   "execution_count": 166,
   "metadata": {},
   "outputs": [
    {
     "data": {
      "text/plain": [
       "3           pineapple\n",
       "4          gala apple\n",
       "5    honeycrisp apple\n",
       "dtype: object"
      ]
     },
     "execution_count": 166,
     "metadata": {},
     "output_type": "execute_result"
    }
   ],
   "source": [
    "#n. Write the code to get only the fruits containing \"apple\" in the name\n",
    "# first checking to see if apple is contained in the fruit name\n",
    "# using a lambda function, and then indexing it\n",
    "\n",
    "fruits[fruits.apply(lambda fruit: 'apple' in fruit)] \n"
   ]
  },
  {
   "cell_type": "code",
   "execution_count": 204,
   "metadata": {},
   "outputs": [
    {
     "data": {
      "text/plain": [
       "'honeycrisp apple'"
      ]
     },
     "execution_count": 204,
     "metadata": {},
     "output_type": "execute_result"
    }
   ],
   "source": [
    "#o. Which fruit has the highest amount of vowels?\n",
    "# we have previously created a function that counts vowels in each fruit, we are using that function with max \n",
    "#function to index the fruit with the maximum number of vowel\n",
    "\n",
    "fruits[fruits.apply(count_vowels).max()] \n",
    "#fruits[max(fruits.str.count('[aeiou]'))]"
   ]
  },
  {
   "cell_type": "code",
   "execution_count": 12,
   "metadata": {},
   "outputs": [
    {
     "data": {
      "text/plain": [
       "4789988.17"
      ]
     },
     "execution_count": 12,
     "metadata": {},
     "output_type": "execute_result"
    }
   ],
   "source": [
    "#2. Use pandas to create a Series from the following data:\n",
    "my_series = pd.Series(['$796,459.41', '$278.60', '$482,571.67', '$4,503,915.98', '$2,121,418.3', '$1,260,813.3', '$87,231.01', '$1,509,175.45', '$4,138,548.00', '$2,848,913.80', '$594,715.39', '$4,789,988.17', '$4,513,644.5', '$3,191,059.97', '$1,758,712.24', '$4,338,283.54', '$4,738,303.38', '$2,791,759.67', '$769,681.94', '$452,650.23'])\n",
    "my_series\n",
    "# we can also chain all of these together as an another approach to solve this problem\n",
    "# the data type of my_series is object.\n",
    "temp_series = my_series.str.replace(\"$\", \"\") # replacing the $ sign with nothing\n",
    "new_series = temp_series.str.replace(\",\", \"\") # replacing the commas with nothing\n",
    "# converting it to a float data type\n",
    "new_series = new_series.astype(float)\n",
    "new_series.min() # getting the minimum value\n",
    "new_series.max() # getting the maximum value\n"
   ]
  },
  {
   "cell_type": "code",
   "execution_count": 15,
   "metadata": {},
   "outputs": [
    {
     "data": {
      "text/plain": [
       "(-4511.11, 1197705.993]       7\n",
       "(1197705.993, 2395133.385]    4\n",
       "(2395133.385, 3592560.778]    3\n",
       "(3592560.778, 4789988.17]     6\n",
       "dtype: int64"
      ]
     },
     "execution_count": 15,
     "metadata": {},
     "output_type": "execute_result"
    }
   ],
   "source": [
    "#Bin the data into 4 equally sized intervals and show how many values fall into each bin.\n",
    "# we use the .cut function to cut the series and gave 4 as an argument because we want 4 equal bins, then we used\n",
    "# the .value_counts() function to get the number of values for bin\n",
    "new_data_series = pd.cut(new_series, 4).value_counts().sort_index()\n",
    "new_data_series"
   ]
  },
  {
   "cell_type": "code",
   "execution_count": 22,
   "metadata": {},
   "outputs": [
    {
     "data": {
      "image/png": "[encoded data removed]",
      "text/plain": [
       "<Figure size 432x288 with 1 Axes>"
      ]
     },
     "metadata": {
      "needs_background": "light"
     },
     "output_type": "display_data"
    }
   ],
   "source": [
    "#Plot a histogram of the data. Be sure to include a title and axis labels.\n",
    "plt.hist(new_series, bins = 4, ec = 'black')\n",
    "# plt.bar(new_series, width = .9)\n",
    "plt.xlabel(\"Data Values\")\n",
    "plt.ylabel(\"Frequency\")\n",
    "plt.title(\"Histogram from Pandas\")\n",
    "plt.show()"
   ]
  },
  {
   "cell_type": "code",
   "execution_count": 17,
   "metadata": {},
   "outputs": [
    {
     "data": {
      "text/plain": [
       "0     60\n",
       "1     86\n",
       "2     75\n",
       "3     62\n",
       "4     93\n",
       "5     71\n",
       "6     60\n",
       "7     83\n",
       "8     95\n",
       "9     78\n",
       "10    65\n",
       "11    72\n",
       "12    69\n",
       "13    81\n",
       "14    96\n",
       "15    80\n",
       "16    85\n",
       "17    92\n",
       "18    82\n",
       "19    78\n",
       "dtype: int64"
      ]
     },
     "execution_count": 17,
     "metadata": {},
     "output_type": "execute_result"
    }
   ],
   "source": [
    "#3. Use pandas to create a Series from the following exam scores:\n",
    "scores = pd.Series([60, 86, 75, 62, 93, 71, 60, 83, 95, 78, 65, 72, 69, 81, 96, 80, 85, 92, 82, 78])\n",
    "scores"
   ]
  },
  {
   "cell_type": "code",
   "execution_count": 18,
   "metadata": {},
   "outputs": [
    {
     "data": {
      "text/plain": [
       "{'minimum score': 60,\n",
       " 'maximum score': 96,\n",
       " 'mean score': 78.15,\n",
       " 'median score': 79.0}"
      ]
     },
     "execution_count": 18,
     "metadata": {},
     "output_type": "execute_result"
    }
   ],
   "source": [
    "#What is the minimum exam score? The max, mean, median?\n",
    "\n",
    "# here we are using the function min, max, median, to get the asked value\n",
    "{\n",
    "    'minimum score': scores.min(),\n",
    "    'maximum score': scores.max(),\n",
    "    'mean score': scores.mean(),\n",
    "    'median score': scores.median()\n",
    "}"
   ]
  },
  {
   "cell_type": "code",
   "execution_count": 23,
   "metadata": {},
   "outputs": [
    {
     "data": {
      "image/png": "[encoded data removed]",
      "text/plain": [
       "<Figure size 432x288 with 1 Axes>"
      ]
     },
     "metadata": {
      "needs_background": "light"
     },
     "output_type": "display_data"
    }
   ],
   "source": [
    "#Plot a histogram of the scores.\n",
    "#using the plt function from matplotlib to create a histogram with 8 bins\n",
    "\n",
    "plt.hist(scores, bins = 4,color = 'hotpink', ec = 'black')\n",
    "# plt.plot(scores)\n",
    "plt.xlabel(\"Scores\")\n",
    "plt.ylabel('Frequency')\n",
    "plt.title(\"Scores Histogram\")\n",
    "plt.show()"
   ]
  },
  {
   "cell_type": "code",
   "execution_count": 271,
   "metadata": {},
   "outputs": [
    {
     "data": {
      "text/plain": [
       "0     D\n",
       "1     B\n",
       "2     C\n",
       "3     D\n",
       "4     A\n",
       "5     C\n",
       "6     D\n",
       "7     B\n",
       "8     A\n",
       "9     C\n",
       "10    D\n",
       "11    C\n",
       "12    D\n",
       "13    B\n",
       "14    A\n",
       "15    B\n",
       "16    B\n",
       "17    A\n",
       "18    B\n",
       "19    C\n",
       "dtype: object"
      ]
     },
     "execution_count": 271,
     "metadata": {},
     "output_type": "execute_result"
    }
   ],
   "source": [
    "#Convert each of the numbers above into a letter grade. For example, 86 should be a 'B' and 95 should be an 'A'.\n",
    "scores.apply(lambda score: \"A\" if score >= 90 else \"B\" if score >= 80 else \"C\" if score >= 70 else \"D\" if score >= 60 else \"F\")\n",
    "# used the lambda function to create an interval of grades and assigned letter grade to them\n",
    "\n",
    "\n",
    "\n",
    "# scores.apply(lambda score: pd.concat(score,\"A\") if score >= 90 else pd.concat(score,\"B\") if score >= 80 else pd.concat(score,\"C\") if score >= 70 else pd.concat(score,\"D\") if score >= 60 else pd.concat(score,\"F\"))\n",
    "# scores_with_grades = pd.cut(scores, [0,60,70,80,90,100], labels= [\"F\", \"D\", \"C\", \"B\", \"A\"])\n",
    "# plt.hist(scores_with_grades)\n",
    "# plt.xlabel(\"Students letter Grade\")"
   ]
  },
  {
   "cell_type": "code",
   "execution_count": 252,
   "metadata": {},
   "outputs": [
    {
     "data": {
      "text/plain": [
       "0      64\n",
       "1      90\n",
       "2      79\n",
       "3      66\n",
       "4      97\n",
       "5      75\n",
       "6      64\n",
       "7      87\n",
       "8      99\n",
       "9      82\n",
       "10     69\n",
       "11     76\n",
       "12     73\n",
       "13     85\n",
       "14    100\n",
       "15     84\n",
       "16     89\n",
       "17     96\n",
       "18     86\n",
       "19     82\n",
       "dtype: int64"
      ]
     },
     "execution_count": 252,
     "metadata": {},
     "output_type": "execute_result"
    }
   ],
   "source": [
    "#Write the code necessary to implement a curve. I.e. that grade closest to 100 should be converted to a 100,\n",
    "#and that many points should be given to every other score as well.\n",
    "new_curved_score = scores + (100- scores.max())\n",
    "new_curved_score\n"
   ]
  },
  {
   "cell_type": "code",
   "execution_count": 25,
   "metadata": {},
   "outputs": [
    {
     "data": {
      "text/plain": [
       "y    13\n",
       "p    12\n",
       "w    10\n",
       "k     9\n",
       "b     9\n",
       "n     9\n",
       "m     9\n",
       "c     8\n",
       "q     8\n",
       "o     8\n",
       "d     8\n",
       "r     8\n",
       "a     8\n",
       "h     8\n",
       "x     8\n",
       "v     7\n",
       "t     7\n",
       "u     7\n",
       "z     7\n",
       "j     6\n",
       "f     6\n",
       "e     6\n",
       "g     5\n",
       "i     5\n",
       "s     5\n",
       "l     4\n",
       "dtype: int64"
      ]
     },
     "execution_count": 25,
     "metadata": {},
     "output_type": "execute_result"
    }
   ],
   "source": [
    "#4. Use pandas to create a Series from the following string:\n",
    "# first we convert the string to list of strings and than to series\n",
    "str_series = pd.Series (list('hnvidduckkqxwymbimkccexbkmqygkxoyndmcxnwqarhyffsjpsrabtjzsypmzadfavyrnndndvswreauxovncxtwzpwejilzjrmmbbgbyxvjtewqthafnbkqplarokkyydtubbmnexoypulzwfhqvckdpqtpoppzqrmcvhhpwgjwupgzhiofohawytlsiyecuproguy'))\n",
    "                        \n",
    "str_series\n",
    "str_series.value_counts()"
   ]
  },
  {
   "cell_type": "code",
   "execution_count": 29,
   "metadata": {},
   "outputs": [
    {
     "data": {
      "text/plain": [
       "l    4\n",
       "dtype: int64"
      ]
     },
     "execution_count": 29,
     "metadata": {},
     "output_type": "execute_result"
    }
   ],
   "source": [
    "#What is the most frequently occuring letter? Least frequently occuring?\n",
    "# we are using the nlargest and n smallest to get the frequently occuring letter and least frequently occuring letter\n",
    "str_series.value_counts().nlargest(n = 1, keep='all')\n",
    "str_series.value_counts().nsmallest(n = 1,keep= 'all')"
   ]
  },
  {
   "cell_type": "code",
   "execution_count": 310,
   "metadata": {},
   "outputs": [
    {
     "data": {
      "text/plain": [
       "34"
      ]
     },
     "execution_count": 310,
     "metadata": {},
     "output_type": "execute_result"
    }
   ],
   "source": [
    "# How many vowels are in the series?\n",
    "\n",
    "# first counting the number of vowels and then using the sum fuction to get the total count\n",
    "\n",
    "str_series.str.count('[aeiou]').sum()"
   ]
  },
  {
   "cell_type": "code",
   "execution_count": 359,
   "metadata": {},
   "outputs": [
    {
     "data": {
      "text/plain": [
       "166"
      ]
     },
     "execution_count": 359,
     "metadata": {},
     "output_type": "execute_result"
    }
   ],
   "source": [
    "#How many consonants are in the list? \n",
    "\n",
    "    # subtracting the sum total of the vowel count and subtracting it from the total count sum\n",
    "\n",
    "str_series.count().sum()-str_series.str.count('[aeiou]').sum()"
   ]
  },
  {
   "cell_type": "code",
   "execution_count": 31,
   "metadata": {},
   "outputs": [
    {
     "data": {
      "text/plain": [
       "0      H\n",
       "1      N\n",
       "2      V\n",
       "3      I\n",
       "4      D\n",
       "      ..\n",
       "195    R\n",
       "196    O\n",
       "197    G\n",
       "198    U\n",
       "199    Y\n",
       "Length: 200, dtype: object"
      ]
     },
     "execution_count": 31,
     "metadata": {},
     "output_type": "execute_result"
    }
   ],
   "source": [
    "#Create a series that has all of the same letters, but uppercased\n",
    "str_series.str.upper()\n",
    "\n"
   ]
  },
  {
   "cell_type": "code",
   "execution_count": 362,
   "metadata": {},
   "outputs": [
    {
     "data": {
      "image/png": "[encoded data removed]",
      "text/plain": [
       "<Figure size 432x288 with 1 Axes>"
      ]
     },
     "metadata": {
      "needs_background": "light"
     },
     "output_type": "display_data"
    }
   ],
   "source": [
    "#Create a bar plot of the frequencies of the 6 most frequently occuring letters.\n",
    "str_series.value_counts().head(6).plot.bar(color = 'purple', width = 0.9)\n",
    "plt.title(\"The 6 most frequent letters\")\n",
    "plt.xlabel(\"Letters\")\n",
    "plt.xticks(rotation = 45)\n",
    "plt.ylabel(\"Frequency\")\n",
    "plt.show()"
   ]
  },
  {
   "cell_type": "code",
   "execution_count": null,
   "metadata": {},
   "outputs": [],
   "source": []
  }
 ],
 "metadata": {
  "kernelspec": {
   "display_name": "Python 3",
   "language": "python",
   "name": "python3"
  },
  "language_info": {
   "codemirror_mode": {
    "name": "ipython",
    "version": 3
   },
   "file_extension": ".py",
   "mimetype": "text/x-python",
   "name": "python",
   "nbconvert_exporter": "python",
   "pygments_lexer": "ipython3",
   "version": "3.7.6"
  }
 },
 "nbformat": 4,
 "nbformat_minor": 4
}
